{
 "cells": [
  {
   "cell_type": "markdown",
   "metadata": {},
   "source": [
    "## Model simulation: population model"
   ]
  },
  {
   "cell_type": "markdown",
   "metadata": {},
   "source": [
    "$$\\frac{dv}{dt}= r_{v}v (1-\\frac{v}{K_{v}}) - d_{nv}v$$\n",
    "$$\\frac{dm_{1}}{dt}=r_{1}m_{1}(1-\\frac{m_{1}+m_{2}}{K_{M}})-\\alpha_{1}vm_{1}-d_{n1}m_{1}$$\n",
    "$$\\frac{dm_{2}}{dt}=r_{2}m_{2}(1-\\frac{m_{1}+m_{2}}{K_{M}})-\\alpha_{2}vm_{2}-d_{n2}m_{2}+m_{2,in}$$"
   ]
  },
  {
   "cell_type": "code",
   "execution_count": null,
   "metadata": {},
   "outputs": [],
   "source": [
    "%matplotlib inline\n",
    "\n",
    "# Importing functionalities\n",
    "import numpy as np\n",
    "import scipy as sp\n",
    "import pandas as pd\n",
    "import math\n",
    "from IPython.display import Image\n",
    "from ipywidgets import interact, fixed, FloatSlider, IntSlider, ToggleButtons\n",
    "\n",
    "%load_ext autoreload\n",
    "%autoreload 1\n",
    "import sys\n",
    "import os\n",
    "sys.path.append(\"functions\")\n",
    "%aimport general_functions\n"
   ]
  },
  {
   "cell_type": "code",
   "execution_count": null,
   "metadata": {},
   "outputs": [],
   "source": [
    "%aimport populatie\n",
    "functie_afgeleiden = populatie.model_afgeleiden"
   ]
  },
  {
   "cell_type": "markdown",
   "metadata": {},
   "source": [
    "## Model simulation"
   ]
  },
  {
   "cell_type": "code",
   "execution_count": null,
   "metadata": {},
   "outputs": [],
   "source": [
    "df = general_functions.model(\n",
    "    np.arange(0., 22, 0.1), # time steps\n",
    "    [3, 1000, 1000], # initial conditions\n",
    "    ['v','m1', 'm2'], # naming variables\n",
    "    functie_afgeleiden, # name function derivatives\n",
    "    returnDataFrame=True, plotresults=True,\n",
    "    # as of here: function specific parameters\n",
    "    r_v=1, K_v=10, K_m=8000, d_nv=0.06, d_n1=0.9, d_n2=1, r_1=14.2, r_2=12.1,\n",
    "    alpha_1=0.00005, alpha_2=0.00006, m2_in=100)"
   ]
  },
  {
   "cell_type": "markdown",
   "metadata": {},
   "source": [
    "Since $v$ has different order of magnitude compared to $m_1$ and $m_2$, it is more logic to plot $v$ on a different scale."
   ]
  },
  {
   "cell_type": "code",
   "execution_count": null,
   "metadata": {},
   "outputs": [],
   "source": [
    "import matplotlib.pyplot as plt\n",
    "fig, ax1 = plt.subplots()              # We prepare a graph\n",
    "ax1_twin = ax1.twinx()                 # We ensure a double y-axis\n",
    "ax1.plot(df['v'], color='#e5ae38')              # We plot v first in black\n",
    "ax1_twin.plot(df[['m1', 'm2']])  # We plot m1 and m2 on the 'twin'-axis"
   ]
  },
  {
   "cell_type": "markdown",
   "metadata": {},
   "source": [
    "$$\\frac{dv}{dt}= r_{v}v (1-\\frac{v}{K_{v}}) - d_{nv}v$$\n",
    "$$\\frac{dm_{1}}{dt}=r_{1}m_{1}(1-\\frac{m_{1}+m_{2}}{K_{M}})-\\alpha_{1}vm_{1}-d_{n1}m_{1}$$\n",
    "$$\\frac{dm_{2}}{dt}=r_{2}m_{2}(1-\\frac{m_{1}+m_{2}}{K_{M}})-\\alpha_{2}vm_{2}-d_{n2}m_{2}+m_{2,in}$$"
   ]
  },
  {
   "cell_type": "markdown",
   "metadata": {},
   "source": [
    "## Impact initial condition and input"
   ]
  },
  {
   "cell_type": "code",
   "execution_count": null,
   "metadata": {},
   "outputs": [],
   "source": [
    "def interactive_model(v, m1, m2, m2_in):\n",
    "    general_functions.model(\n",
    "        np.arange(0., 22, 0.1), # time steps\n",
    "        [v, m1, m2], # initial conditions\n",
    "        ['v', 'm1', 'm2'], # names variables\n",
    "        functie_afgeleiden, # name function derivatives\n",
    "        returnDataFrame=False, plotresults=True,\n",
    "        # as of here: function specific parameters\n",
    "        r_v=1, K_v=10, K_m=8000, d_nv=0.06, d_n1=0.9, d_n2=1, r_1=14.2, r_2=12.1,\n",
    "        alpha_1=0.00005, alpha_2=0.00006, m2_in=m2_in)\n",
    "    \n",
    "interact(interactive_model,\n",
    "         v=fixed(3),\n",
    "         m1=FloatSlider(value=500, min=0, max=2000, step=100, description='m1', continuous_update=False),\n",
    "         m2=FloatSlider(value=500, min=0, max=2000, step=100, description='m2', continuous_update=False),\n",
    "         m2_in=FloatSlider(value=1000, min=800, max=1200, step=10, description='m2_in', continuous_update=False))"
   ]
  },
  {
   "cell_type": "markdown",
   "metadata": {},
   "source": [
    "$$\\frac{dv}{dt}= r_{v}v (1-\\frac{v}{K_{v}}) - d_{nv}v$$\n",
    "$$\\frac{dm_{1}}{dt}=r_{1}m_{1}(1-\\frac{m_{1}+m_{2}}{K_{M}})-\\alpha_{1}vm_{1}-d_{n1}m_{1}$$\n",
    "$$\\frac{dm_{2}}{dt}=r_{2}m_{2}(1-\\frac{m_{1}+m_{2}}{K_{M}})-\\alpha_{2}vm_{2}-d_{n2}m_{2}+m_{2,in}$$"
   ]
  },
  {
   "cell_type": "markdown",
   "metadata": {},
   "source": [
    "## Impact parameters (part 1)"
   ]
  },
  {
   "cell_type": "code",
   "execution_count": null,
   "metadata": {},
   "outputs": [],
   "source": [
    "interact(general_functions.model,\n",
    "         tijdstappen=fixed(np.arange(0., 22, 0.1)),\n",
    "         init=fixed([3, 1000, 1000]), varnames=fixed(['v', 'm1', 'm2']),\n",
    "         f=fixed(functie_afgeleiden),\n",
    "         returnDataFrame=fixed(False), plotresults=fixed(True),\n",
    "         r_v=fixed(1),\n",
    "         K_v=FloatSlider(value=5, min=0., max=20, step=1, name='K_v', continuous_update=False),\n",
    "         K_m=FloatSlider(value=5000, min=0., max=16000, step=500, name='K_m', continuous_update=False),\n",
    "         d_nv=fixed(0.06), d_n1=fixed(0.9), d_n2=fixed(1), r_1=fixed(14.2), r_2=fixed(12.1), \n",
    "         alpha_1=fixed(0.00005), alpha_2=fixed(0.00006), m2_in=fixed(100))"
   ]
  },
  {
   "cell_type": "markdown",
   "metadata": {},
   "source": [
    "$$\\frac{dv}{dt}= r_{v}v (1-\\frac{v}{K_{v}}) - d_{nv}v$$\n",
    "$$\\frac{dm_{1}}{dt}=r_{1}m_{1}(1-\\frac{m_{1}+m_{2}}{K_{M}})-\\alpha_{1}vm_{1}-d_{n1}m_{1}$$\n",
    "$$\\frac{dm_{2}}{dt}=r_{2}m_{2}(1-\\frac{m_{1}+m_{2}}{K_{M}})-\\alpha_{2}vm_{2}-d_{n2}m_{2}+m_{2,in}$$"
   ]
  },
  {
   "cell_type": "markdown",
   "metadata": {},
   "source": [
    "## Impact parameters (part 2)"
   ]
  },
  {
   "cell_type": "code",
   "execution_count": null,
   "metadata": {},
   "outputs": [],
   "source": [
    "interact(general_functions.model,\n",
    "         tijdstappen=fixed(np.arange(0., 22, 0.1)),\n",
    "         init=fixed([3, 1000, 1000]), varnames=fixed(['v', 'm1', 'm2']),\n",
    "         f=fixed(functie_afgeleiden),\n",
    "         returnDataFrame=fixed(False), plotresults=fixed(True),\n",
    "         r_v=fixed(1), K_v=fixed(10), K_m=fixed(8000),\n",
    "         d_n1=FloatSlider(value=1, min=0., max=1.8, step=.1, name='d_n1', continuous_update=False),\n",
    "         d_n2=FloatSlider(value=1, min=0., max=2, step=.1, name='d_n2', continuous_update=False),\n",
    "         d_nv=fixed(0.06), r_1=fixed(14.2), r_2=fixed(12.1), \n",
    "         alpha_1=fixed(0.00005), alpha_2=fixed(0.00006), m2_in=fixed(100))"
   ]
  },
  {
   "cell_type": "markdown",
   "metadata": {},
   "source": [
    "$$\\frac{dv}{dt}= r_{v}v (1-\\frac{v}{K_{v}}) - d_{nv}v$$\n",
    "$$\\frac{dm_{1}}{dt}=r_{1}m_{1}(1-\\frac{m_{1}+m_{2}}{K_{M}})-\\alpha_{1}vm_{1}-d_{n1}m_{1}$$\n",
    "$$\\frac{dm_{2}}{dt}=r_{2}m_{2}(1-\\frac{m_{1}+m_{2}}{K_{M}})-\\alpha_{2}vm_{2}-d_{n2}m_{2}+m_{2,in}$$"
   ]
  },
  {
   "cell_type": "markdown",
   "metadata": {},
   "source": [
    "## Impact parameters (part 3)"
   ]
  },
  {
   "cell_type": "code",
   "execution_count": null,
   "metadata": {},
   "outputs": [],
   "source": [
    "interact(general_functions.model,\n",
    "         tijdstappen=fixed(np.arange(0., 22, 0.1)),\n",
    "         init=fixed([3, 1000, 1000]), varnames=fixed(['v', 'm1', 'm2']),\n",
    "         f=fixed(functie_afgeleiden),\n",
    "         returnDataFrame=fixed(False), plotresults=fixed(True),\n",
    "         r_v=fixed(1), K_v=fixed(10), K_m=fixed(8000), d_n1=fixed(0.9), d_n2=fixed(1), \n",
    "         r_1=FloatSlider(value=1, min=0., max=30, step=.2, name='r_1', continuous_update=False),\n",
    "         r_2=FloatSlider(value=1, min=0., max=30, step=.2, name='r_2', continuous_update=False),\n",
    "         d_nv=fixed(0.06), \n",
    "         alpha_1=fixed(0.00005), alpha_2=fixed(0.00006), m2_in=fixed(100))"
   ]
  },
  {
   "cell_type": "markdown",
   "metadata": {},
   "source": [
    "$$\\frac{dv}{dt}= r_{v}v (1-\\frac{v}{K_{v}}) - d_{nv}v$$\n",
    "$$\\frac{dm_{1}}{dt}=r_{1}m_{1}(1-\\frac{m_{1}+m_{2}}{K_{M}})-\\alpha_{1}vm_{1}-d_{n1}m_{1}$$\n",
    "$$\\frac{dm_{2}}{dt}=r_{2}m_{2}(1-\\frac{m_{1}+m_{2}}{K_{M}})-\\alpha_{2}vm_{2}-d_{n2}m_{2}+m_{2,in}$$"
   ]
  },
  {
   "cell_type": "markdown",
   "metadata": {},
   "source": [
    "## Impact parameters (part 4)"
   ]
  },
  {
   "cell_type": "code",
   "execution_count": null,
   "metadata": {},
   "outputs": [],
   "source": [
    "interact(general_functions.model,\n",
    "         tijdstappen=fixed(np.arange(0., 22, 0.1)),\n",
    "         init=fixed([3, 1000, 1000]), varnames=fixed(['v', 'm1', 'm2']),\n",
    "         f=fixed(functie_afgeleiden),\n",
    "         returnDataFrame=fixed(False), plotresults=fixed(True),\n",
    "         r_v=fixed(1), K_v=fixed(10), K_m=fixed(8000), d_n1=fixed(0.9), d_n2=fixed(1), \n",
    "         alpha_1=FloatSlider(value=3e-5, min=0., max=1e-4, step=1e-5, name='alpha_1', continuous_update=False),\n",
    "         alpha_2=FloatSlider(value=3e-5, min=0., max=1e-4, step=1e-5, name='alpha_2', continuous_update=False),\n",
    "         d_nv=fixed(0.06), r_1=fixed(14.2), r_2=fixed(12.1), m2_in=fixed(100))"
   ]
  },
  {
   "cell_type": "markdown",
   "metadata": {},
   "source": [
    "$$\\frac{dv}{dt}= r_{v}v (1-\\frac{v}{K_{v}}) - d_{nv}v$$\n",
    "$$\\frac{dm_{1}}{dt}=r_{1}m_{1}(1-\\frac{m_{1}+m_{2}}{K_{M}})-\\alpha_{1}vm_{1}-d_{n1}m_{1}$$\n",
    "$$\\frac{dm_{2}}{dt}=r_{2}m_{2}(1-\\frac{m_{1}+m_{2}}{K_{M}})-\\alpha_{2}vm_{2}-d_{n2}m_{2}+m_{2,in}$$"
   ]
  },
  {
   "cell_type": "markdown",
   "metadata": {},
   "source": [
    "# sensitivity"
   ]
  },
  {
   "cell_type": "code",
   "execution_count": null,
   "metadata": {},
   "outputs": [],
   "source": [
    "interact(general_functions.sensitiviteit,\n",
    "    tijdstappen=fixed(np.arange(0., 22, 0.1)), # time steps\n",
    "    init=fixed([3, 1000, 1000]), # initial conditions\n",
    "    varnames=fixed(['v','m1', 'm2']), # names variables\n",
    "    f=fixed(functie_afgeleiden), # name function derivatives\n",
    "    parameternaam=ToggleButtons(options=['r_v', 'K_v', 'K_m', 'd_nv', 'd_n1',\n",
    "        'd_n2', 'r_1', 'r_2', 'alpha_1', 'alpha_2', 'm2_in']),\n",
    "    log_perturbatie = IntSlider(value=-4, min=-15, max=-1, step=1, continuous_update=False),\n",
    "    soort=ToggleButtons(options=[\n",
    "            'absolute sensitivity', 'relative sensitivity parameter',\n",
    "            'relative sensitivity variabele','relative total sensitivity']),\n",
    "    # vanaf hier: functie specifieke parameters\n",
    "    r_v=fixed(1), K_v=fixed(10), K_m=fixed(8000), d_nv=fixed(0.06),\n",
    "    d_n1=fixed(0.9), d_n2=fixed(1), r_1=fixed(14.2), r_2=fixed(12.1),\n",
    "    alpha_1=fixed(0.00005), alpha_2=fixed(0.00006), m2_in=fixed(100))"
   ]
  },
  {
   "cell_type": "code",
   "execution_count": null,
   "metadata": {},
   "outputs": [],
   "source": []
  },
  {
   "cell_type": "code",
   "execution_count": null,
   "metadata": {},
   "outputs": [],
   "source": []
  }
 ],
 "metadata": {
  "anaconda-cloud": {},
  "kernelspec": {
   "display_name": "Python [conda env:py35]",
   "language": "python",
   "name": "conda-env-py35-py"
  },
  "language_info": {
   "codemirror_mode": {
    "name": "ipython",
    "version": 3
   },
   "file_extension": ".py",
   "mimetype": "text/x-python",
   "name": "python",
   "nbconvert_exporter": "python",
   "pygments_lexer": "ipython3",
   "version": "3.5.1"
  }
 },
 "nbformat": 4,
 "nbformat_minor": 1
}
