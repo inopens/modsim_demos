{
 "cells": [
  {
   "cell_type": "markdown",
   "metadata": {},
   "source": [
    "## Model simulation: nitrobenzene model"
   ]
  },
  {
   "cell_type": "markdown",
   "metadata": {},
   "source": [
    "$$\\frac{d[C6H6]}{dt}= -2k{[C6H6]}^2[N2O5] + \\frac{Q}{V}({[C6H6]}_{in} - [C6H6])$$\n",
    "$$\\frac{d[N2O5]}{dt}= -k{[C6H6]}^2[N2O5] + \\frac{Q}{V}({[N2O5]}_{in} - [N2O5])$$\n",
    "$$\\frac{d[C6H5NO2]}{dt}= 2k{[C6H6]}^2[N2O5] - \\frac{Q}{V}[C6H5NO2] $$"
   ]
  },
  {
   "cell_type": "code",
   "execution_count": null,
   "metadata": {},
   "outputs": [],
   "source": [
    "%matplotlib inline\n",
    "\n",
    "# Importing functionalities\n",
    "import numpy as np\n",
    "import scipy as sp\n",
    "import pandas as pd\n",
    "import math\n",
    "from IPython.display import Image\n",
    "from ipywidgets import interact, fixed, FloatSlider, IntSlider, ToggleButtons\n",
    "\n",
    "%load_ext autoreload\n",
    "%autoreload 1\n",
    "import sys\n",
    "import os\n",
    "sys.path.append(\"functions\")\n",
    "%aimport general_functions\n"
   ]
  },
  {
   "cell_type": "code",
   "execution_count": null,
   "metadata": {},
   "outputs": [],
   "source": [
    "%aimport nitrobenzeen\n",
    "functie_afgeleiden = nitrobenzeen.model_afgeleiden"
   ]
  },
  {
   "cell_type": "markdown",
   "metadata": {
    "collapsed": true
   },
   "source": [
    "## Model simulation"
   ]
  },
  {
   "cell_type": "code",
   "execution_count": null,
   "metadata": {},
   "outputs": [],
   "source": [
    "df = general_functions.model(\n",
    "    np.arange(0, 1500, 1), # time steps\n",
    "    [0.03, 0, 0], # initial conditions\n",
    "    ['C6H6','N2O5', 'C6H5NO2'], # names of variables\n",
    "    functie_afgeleiden, # name function derivatives\n",
    "    returnDataFrame=True, plotresults=True,\n",
    "    # as of here: function specific parameters\n",
    "    k=2, Q=10, V=3000, C6H6_in=0, N2O5_in=0.03)"
   ]
  },
  {
   "cell_type": "markdown",
   "metadata": {},
   "source": [
    "$$\\frac{d[C6H6]}{dt}= -2k{[C6H6]}^2[N2O5] + \\frac{Q}{V}({[C6H6]}_{in} - [C6H6])$$\n",
    "$$\\frac{d[N2O5]}{dt}= -k{[C6H6]}^2[N2O5] + \\frac{Q}{V}({[N2O5]}_{in} - [N2O5])$$\n",
    "$$\\frac{d[C6H5NO2]}{dt}= 2k{[C6H6]}^2[N2O5] - \\frac{Q}{V}[C6H5NO2] $$"
   ]
  },
  {
   "cell_type": "markdown",
   "metadata": {},
   "source": [
    "## Impact initial condition"
   ]
  },
  {
   "cell_type": "code",
   "execution_count": null,
   "metadata": {},
   "outputs": [],
   "source": [
    "def interactive_model(C6H6, N2O5, C6H5NO2):\n",
    "    general_functions.model(\n",
    "        np.arange(0, 1500, 1), # time steps\n",
    "        [C6H6, N2O5, C6H5NO2], # initial conditions\n",
    "        ['C6H6','N2O5', 'C6H5NO2'], # names of variables\n",
    "        functie_afgeleiden, # name function derivatives\n",
    "        returnDataFrame=True, plotresults=True,\n",
    "        # as of here: function specific parameters\n",
    "        k=2, Q=10, V=3000, C6H6_in=0, N2O5_in=0.03)\n",
    "interact(interactive_model,\n",
    "         C6H6=FloatSlider(value=0.1, min=0, max=1, step=0.01, description='C6H6', continuous_update=False),\n",
    "         N2O5=FloatSlider(value=0.1, min=0, max=1, step=0.01, description='N2O5', continuous_update=False),\n",
    "         C6H5NO2=FloatSlider(value=0.1, min=0, max=1, step=0.01, description='C6H5NO2', continuous_update=False))"
   ]
  },
  {
   "cell_type": "markdown",
   "metadata": {},
   "source": [
    "$$\\frac{d[C6H6]}{dt}= -2k{[C6H6]}^2[N2O5] + \\frac{Q}{V}({[C6H6]}_{in} - [C6H6])$$\n",
    "$$\\frac{d[N2O5]}{dt}= -k{[C6H6]}^2[N2O5] + \\frac{Q}{V}({[N2O5]}_{in} - [N2O5])$$\n",
    "$$\\frac{d[C6H5NO2]}{dt}= 2k{[C6H6]}^2[N2O5] - \\frac{Q}{V}[C6H5NO2] $$"
   ]
  },
  {
   "cell_type": "markdown",
   "metadata": {},
   "source": [
    "## Impact inputs"
   ]
  },
  {
   "cell_type": "code",
   "execution_count": null,
   "metadata": {},
   "outputs": [],
   "source": [
    "interact(general_functions.model,\n",
    "         tijdstappen=fixed(np.arange(0, 1500, 1)),\n",
    "         init=fixed([0.03, 0, 0]), varnames=fixed(['C6H6','N2O5', 'C6H5NO2']),\n",
    "         f=fixed(functie_afgeleiden),\n",
    "         returnDataFrame=fixed(False), plotresults=fixed(True),\n",
    "         k=fixed(2), Q=fixed(10), V=fixed(3000),\n",
    "         C6H6_in=FloatSlider(value=0.1, min=0., max=1, step=0.1, name='b', continuous_update=False),\n",
    "         N2O5_in=FloatSlider(value=0.03, min=0., max=0.05, step=0.01, name='m', continuous_update=False))"
   ]
  },
  {
   "cell_type": "markdown",
   "metadata": {},
   "source": [
    "$$\\frac{d[C6H6]}{dt}= -2k{[C6H6]}^2[N2O5] + \\frac{Q}{V}({[C6H6]}_{in} - [C6H6])$$\n",
    "$$\\frac{d[N2O5]}{dt}= -k{[C6H6]}^2[N2O5] + \\frac{Q}{V}({[N2O5]}_{in} - [N2O5])$$\n",
    "$$\\frac{d[C6H5NO2]}{dt}= 2k{[C6H6]}^2[N2O5] - \\frac{Q}{V}[C6H5NO2] $$"
   ]
  },
  {
   "cell_type": "markdown",
   "metadata": {},
   "source": [
    "## Impact parameters"
   ]
  },
  {
   "cell_type": "code",
   "execution_count": null,
   "metadata": {},
   "outputs": [],
   "source": [
    "interact(general_functions.model,\n",
    "         tijdstappen=fixed(np.arange(0, 1500, 1)),\n",
    "         init=fixed([0.03, 0, 0]), varnames=fixed(['C6H6','N2O5', 'C6H5NO2']),\n",
    "         f=fixed(functie_afgeleiden),\n",
    "         returnDataFrame=fixed(False), plotresults=fixed(True),\n",
    "         C6H6_in=fixed(0), N2O5_in=fixed(0.03),\n",
    "         k=FloatSlider(value=1, min=0., max=10, step=0.1, name='b', continuous_update=False),\n",
    "         Q=FloatSlider(value=10, min=0., max=20, step=1, name='m', continuous_update=False),\n",
    "         V=FloatSlider(value=1500, min=0., max=6000, step=100, name='m', continuous_update=False))"
   ]
  },
  {
   "cell_type": "markdown",
   "metadata": {},
   "source": [
    "$$\\frac{d[C6H6]}{dt}= -2k{[C6H6]}^2[N2O5] + \\frac{Q}{V}({[C6H6]}_{in} - [C6H6])$$\n",
    "$$\\frac{d[N2O5]}{dt}= -k{[C6H6]}^2[N2O5] + \\frac{Q}{V}({[N2O5]}_{in} - [N2O5])$$\n",
    "$$\\frac{d[C6H5NO2]}{dt}= 2k{[C6H6]}^2[N2O5] - \\frac{Q}{V}[C6H5NO2] $$"
   ]
  },
  {
   "cell_type": "markdown",
   "metadata": {},
   "source": [
    "# sensitivity"
   ]
  },
  {
   "cell_type": "code",
   "execution_count": null,
   "metadata": {},
   "outputs": [],
   "source": [
    "interact(general_functions.sensitiviteit,\n",
    "    tijdstappen=fixed(np.arange(0, 1500, 1)), # time steps\n",
    "    init=fixed([0.03, 0, 0]), # initial conditions\n",
    "    varnames=fixed(['C6H6','N2O5', 'C6H5NO2']), # names of variables\n",
    "    f=fixed(functie_afgeleiden), # name function derivatives\n",
    "    parameternaam=ToggleButtons(options=['k', 'Q', 'V', 'C6H6_in', 'N2O5_in']),\n",
    "    log_perturbatie = IntSlider(value=-4, min=-15, max=-1, step=1, continuous_update=False),\n",
    "    soort=ToggleButtons(options=[\n",
    "            'absolute sensitivity', 'relative sensitivity parameter',\n",
    "            'relative sensitivity variable','relative total sensitivity']),\n",
    "    # as of here: function specific parameters\n",
    "    k=fixed(2), Q=fixed(10), V=fixed(3000), C6H6_in=fixed(0), N2O5_in=fixed(0.03))"
   ]
  },
  {
   "cell_type": "code",
   "execution_count": null,
   "metadata": {},
   "outputs": [],
   "source": []
  }
 ],
 "metadata": {
  "anaconda-cloud": {},
  "kernelspec": {
   "display_name": "Python [conda env:py35]",
   "language": "python",
   "name": "conda-env-py35-py"
  },
  "language_info": {
   "codemirror_mode": {
    "name": "ipython",
    "version": 3
   },
   "file_extension": ".py",
   "mimetype": "text/x-python",
   "name": "python",
   "nbconvert_exporter": "python",
   "pygments_lexer": "ipython3",
   "version": "3.5.1"
  }
 },
 "nbformat": 4,
 "nbformat_minor": 1
}
